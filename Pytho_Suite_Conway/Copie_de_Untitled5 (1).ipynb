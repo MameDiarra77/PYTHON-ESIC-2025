{
  "nbformat": 4,
  "nbformat_minor": 0,
  "metadata": {
    "colab": {
      "provenance": []
    },
    "kernelspec": {
      "name": "python3",
      "display_name": "Python 3"
    },
    "language_info": {
      "name": "python"
    }
  },
  "cells": [
    {
      "cell_type": "code",
      "execution_count": null,
      "metadata": {
        "colab": {
          "base_uri": "https://localhost:8080/"
        },
        "id": "8MHF7E5gDvfW",
        "outputId": "2dd3cc35-72b4-4e8f-e9d4-aace761b69ff"
      },
      "outputs": [
        {
          "output_type": "stream",
          "name": "stdout",
          "text": [
            "Chaîne originale: Il fait beau aujourd'hui. Je veux en profiter. \n",
            "Chaîne après remplacement: Il fait beau aujourd'hui! Je veux en profiter! \n",
            "Chaîne en minuscule: il fait beau aujourd'hui! je veux en profiter! \n",
            "Chaîne en majuscule: IL FAIT BEAU AUJOURD'HUI! JE VEUX EN PROFITER! \n",
            "Indice du caractère 'b': 8\n"
          ]
        }
      ],
      "source": [
        "# Exercice 1\n",
        "\n",
        "chaine = \"Il fait beau aujourd'hui. Je veux en profiter. \"\n",
        "print(\"Chaîne originale:\", chaine)\n",
        "\n",
        "chaine = chaine.replace(\".\", \"!\")\n",
        "print(\"Chaîne après remplacement:\", chaine)\n",
        "\n",
        "chaine_minuscule = chaine.lower()\n",
        "print(\"Chaîne en minuscule:\", chaine_minuscule)\n",
        "\n",
        "chaine_majuscule = chaine.upper()\n",
        "print(\"Chaîne en majuscule:\", chaine_majuscule)\n",
        "\n",
        "indice_b = chaine.find('b')\n",
        "print(\"Indice du caractère 'b':\", indice_b)\n"
      ]
    },
    {
      "cell_type": "code",
      "source": [
        "# Exercice 2\n",
        "def premierMot(chaine):\n",
        "    mots = chaine.strip().split()\n",
        "    return mots[0] if mots else \"\"\n",
        "\n",
        "chaine = \"samedi soir, je vais au cinéma\"\n",
        "print(f\"Premier mot : '{premierMot(chaine)}'\")\n"
      ],
      "metadata": {
        "colab": {
          "base_uri": "https://localhost:8080/"
        },
        "id": "rIwAe-psE9Ix",
        "outputId": "1b6a5dd3-e779-48b7-a991-f7d2e4c9119a"
      },
      "execution_count": null,
      "outputs": [
        {
          "output_type": "stream",
          "name": "stdout",
          "text": [
            "Premier mot : 'samedi'\n"
          ]
        }
      ]
    },
    {
      "cell_type": "code",
      "source": [
        "# Exercice 3\n",
        "def majuscule_mot(chaine):\n",
        "    return \" \".join(mot.capitalize() for mot in chaine.split())\n",
        "\n",
        "chaine = \"je mange du fromage\"\n",
        "print(f\"Résultat : '{majuscule_mot(chaine)}'\")\n"
      ],
      "metadata": {
        "colab": {
          "base_uri": "https://localhost:8080/"
        },
        "id": "XTWs_F5SGkyQ",
        "outputId": "5b961ddd-c930-486c-989d-e3066c12fec3"
      },
      "execution_count": 3,
      "outputs": [
        {
          "output_type": "stream",
          "name": "stdout",
          "text": [
            "Résultat : 'Je Mange Du Fromage'\n"
          ]
        }
      ]
    },
    {
      "cell_type": "code",
      "source": [
        "# Exercice 4\n",
        "def inverser_phrase(phrase):\n",
        "    mots = phrase.split()\n",
        "    phrase_inversee = \" \".join(reversed(mots))\n",
        "    return phrase_inversee\n",
        "phrase = \"J’en suis tout retourné\"\n",
        "print(f\"Phrase inversée : '{inverser_phrase(phrase)}'\")\n"
      ],
      "metadata": {
        "colab": {
          "base_uri": "https://localhost:8080/"
        },
        "id": "9buwsMjwLERS",
        "outputId": "84260a6b-6a9b-4735-b0be-45b1fcb3e3d1"
      },
      "execution_count": 2,
      "outputs": [
        {
          "output_type": "stream",
          "name": "stdout",
          "text": [
            "Phrase inversée : 'retourné tout suis J’en'\n"
          ]
        }
      ]
    },
    {
      "cell_type": "code",
      "source": [
        "# Exercice 5\n",
        "def image(mot):\n",
        "    \"\"\"\n",
        "    Fonction qui génère l'image d'une chaîne selon le principe de la suite.\n",
        "    Exemple : '111221' devient '312211'\n",
        "    \"\"\"\n",
        "    resultat = \"\"\n",
        "    compteur = 1\n",
        "    for i in range(1, len(mot)):\n",
        "        if mot[i] == mot[i - 1]:\n",
        "            compteur += 1\n",
        "        else:\n",
        "            resultat += str(compteur) + mot[i - 1]\n",
        "            compteur = 1\n",
        "    resultat += str(compteur) + mot[-1]\n",
        "    return resultat\n",
        "\n",
        "def suite_look_and_say(n):\n",
        "    \"\"\"\n",
        "    Fonction qui génère les n premiers termes de la suite.\n",
        "    \"\"\"\n",
        "    termes = [\"1\"]\n",
        "    for _ in range(n - 1):\n",
        "        termes.append(image(termes[-1]))\n",
        "    return termes\n",
        "termes = suite_look_and_say(20)\n",
        "for i, terme in enumerate(termes):\n",
        "    print(f\"u{i} = {terme}\")\n"
      ],
      "metadata": {
        "colab": {
          "base_uri": "https://localhost:8080/"
        },
        "id": "1HIYnZsrMQWn",
        "outputId": "443fe359-8fae-41f2-ec29-46bf5da95bc5"
      },
      "execution_count": null,
      "outputs": [
        {
          "output_type": "stream",
          "name": "stdout",
          "text": [
            "u0 = 1\n",
            "u1 = 11\n",
            "u2 = 21\n",
            "u3 = 1211\n",
            "u4 = 111221\n",
            "u5 = 312211\n",
            "u6 = 13112221\n",
            "u7 = 1113213211\n",
            "u8 = 31131211131221\n",
            "u9 = 13211311123113112211\n",
            "u10 = 11131221133112132113212221\n",
            "u11 = 3113112221232112111312211312113211\n",
            "u12 = 1321132132111213122112311311222113111221131221\n",
            "u13 = 11131221131211131231121113112221121321132132211331222113112211\n",
            "u14 = 311311222113111231131112132112311321322112111312211312111322212311322113212221\n",
            "u15 = 132113213221133112132113311211131221121321131211132221123113112221131112311332111213211322211312113211\n",
            "u16 = 11131221131211132221232112111312212321123113112221121113122113111231133221121321132132211331121321231231121113122113322113111221131221\n",
            "u17 = 31131122211311123113321112131221123113112211121312211213211321322112311311222113311213212322211211131221131211132221232112111312111213111213211231131122212322211331222113112211\n",
            "u18 = 1321132132211331121321231231121113112221121321132122311211131122211211131221131211132221121321132132212321121113121112133221123113112221131112311332111213122112311311123112111331121113122112132113213211121332212311322113212221\n",
            "u19 = 11131221131211132221232112111312111213111213211231132132211211131221131211221321123113213221123113112221131112311332211211131221131211132211121312211231131112311211232221121321132132211331121321231231121113112221121321133112132112312321123113112221121113122113121113123112112322111213211322211312113211\n"
          ]
        }
      ]
    }
  ]
}