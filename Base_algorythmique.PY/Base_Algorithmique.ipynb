{
  "cells": [
    {
      "cell_type": "code",
      "execution_count": null,
      "metadata": {
        "colab": {
          "base_uri": "https://localhost:8080/"
        },
        "id": "N7ifQoqHWgxv",
        "outputId": "456b03a1-5aba-47c4-88e6-04e026e65687"
      },
      "outputs": [
        {
          "name": "stdout",
          "output_type": "stream",
          "text": [
            "Bonjour le Monde\n"
          ]
        }
      ],
      "source": [
        "# Exercice 1 : Bonjour le Monde\n",
        "\n",
        "print(\"Bonjour le Monde\")"
      ]
    },
    {
      "cell_type": "code",
      "execution_count": null,
      "metadata": {
        "colab": {
          "base_uri": "https://localhost:8080/"
        },
        "id": "ksL-VPY0W0Dm",
        "outputId": "f528679b-f30c-49df-9822-2cee0ccfbdec"
      },
      "outputs": [
        {
          "name": "stdout",
          "output_type": "stream",
          "text": [
            "Vous avez 24 ans.\n"
          ]
        }
      ],
      "source": [
        "# Exercice 2 : Calcul de l'Âge\n",
        "\n",
        "annee_naissance = 2000\n",
        "annee_actuelle = 2024\n",
        "age = annee_actuelle - annee_naissance\n",
        "print(f\"Vous avez {age} ans.\")"
      ]
    },
    {
      "cell_type": "code",
      "execution_count": null,
      "metadata": {
        "colab": {
          "base_uri": "https://localhost:8080/"
        },
        "id": "WAlmOnvLXgFh",
        "outputId": "2ffa87af-7a96-4d08-932f-f085675d1164"
      },
      "outputs": [
        {
          "name": "stdout",
          "output_type": "stream",
          "text": [
            "Le nombre 15 est impair.\n"
          ]
        }
      ],
      "source": [
        "# Pair ou impaire\n",
        "\n",
        "if nombre % 2 == 0:\n",
        "    print(f\"Le nombre {nombre} est pair.\")\n",
        "else:\n",
        "    print(f\"Le nombre {nombre} est impair.\")"
      ]
    },
    {
      "cell_type": "code",
      "execution_count": null,
      "metadata": {
        "colab": {
          "base_uri": "https://localhost:8080/"
        },
        "id": "JDkFrowYYkLb",
        "outputId": "a1e26b71-122e-4ac3-89ba-e4f235670676"
      },
      "outputs": [
        {
          "name": "stdout",
          "output_type": "stream",
          "text": [
            "La somme des nombres de 1 à 10 est 55.\n"
          ]
        }
      ],
      "source": [
        "# Exercice 4 : Somme des Nombres\n",
        "\n",
        "nnn = 10  # Nombre simulé\n",
        "somme = 0\n",
        "for i in range(1, nnn + 1):\n",
        "    somme += i\n",
        "print(f\"La somme des nombres de 1 à {nnn} est {somme}.\")"
      ]
    },
    {
      "cell_type": "code",
      "execution_count": null,
      "metadata": {
        "colab": {
          "base_uri": "https://localhost:8080/"
        },
        "id": "DtPzRKn0aPdh",
        "outputId": "b99c1841-c549-4d2b-b6aa-9ae015ff0ce0"
      },
      "outputs": [
        {
          "name": "stdout",
          "output_type": "stream",
          "text": [
            "1 x 1 = 1\t1 x 2 = 2\t1 x 3 = 3\t1 x 4 = 4\t1 x 5 = 5\t1 x 6 = 6\t1 x 7 = 7\t1 x 8 = 8\t1 x 9 = 9\t1 x 10 = 10\t\n",
            "2 x 1 = 2\t2 x 2 = 4\t2 x 3 = 6\t2 x 4 = 8\t2 x 5 = 10\t2 x 6 = 12\t2 x 7 = 14\t2 x 8 = 16\t2 x 9 = 18\t2 x 10 = 20\t\n",
            "3 x 1 = 3\t3 x 2 = 6\t3 x 3 = 9\t3 x 4 = 12\t3 x 5 = 15\t3 x 6 = 18\t3 x 7 = 21\t3 x 8 = 24\t3 x 9 = 27\t3 x 10 = 30\t\n",
            "4 x 1 = 4\t4 x 2 = 8\t4 x 3 = 12\t4 x 4 = 16\t4 x 5 = 20\t4 x 6 = 24\t4 x 7 = 28\t4 x 8 = 32\t4 x 9 = 36\t4 x 10 = 40\t\n",
            "5 x 1 = 5\t5 x 2 = 10\t5 x 3 = 15\t5 x 4 = 20\t5 x 5 = 25\t5 x 6 = 30\t5 x 7 = 35\t5 x 8 = 40\t5 x 9 = 45\t5 x 10 = 50\t\n",
            "6 x 1 = 6\t6 x 2 = 12\t6 x 3 = 18\t6 x 4 = 24\t6 x 5 = 30\t6 x 6 = 36\t6 x 7 = 42\t6 x 8 = 48\t6 x 9 = 54\t6 x 10 = 60\t\n",
            "7 x 1 = 7\t7 x 2 = 14\t7 x 3 = 21\t7 x 4 = 28\t7 x 5 = 35\t7 x 6 = 42\t7 x 7 = 49\t7 x 8 = 56\t7 x 9 = 63\t7 x 10 = 70\t\n",
            "8 x 1 = 8\t8 x 2 = 16\t8 x 3 = 24\t8 x 4 = 32\t8 x 5 = 40\t8 x 6 = 48\t8 x 7 = 56\t8 x 8 = 64\t8 x 9 = 72\t8 x 10 = 80\t\n",
            "9 x 1 = 9\t9 x 2 = 18\t9 x 3 = 27\t9 x 4 = 36\t9 x 5 = 45\t9 x 6 = 54\t9 x 7 = 63\t9 x 8 = 72\t9 x 9 = 81\t9 x 10 = 90\t\n",
            "10 x 1 = 10\t10 x 2 = 20\t10 x 3 = 30\t10 x 4 = 40\t10 x 5 = 50\t10 x 6 = 60\t10 x 7 = 70\t10 x 8 = 80\t10 x 9 = 90\t10 x 10 = 100\t\n"
          ]
        }
      ],
      "source": [
        "# Exercice 5 : Table de Multiplication\n",
        "\n",
        "for i in range(1, 11):\n",
        "    row = \"\"\n",
        "    for j in range(1, 11):\n",
        "        row += f\"{i} x {j} = {i * j}\\t\"\n",
        "    print(row)"
      ]
    },
    {
      "cell_type": "code",
      "execution_count": null,
      "metadata": {
        "colab": {
          "base_uri": "https://localhost:8080/"
        },
        "id": "2AtZKNjjadOE",
        "outputId": "7da9ff24-1d1a-47e2-e623-1962b74e1a99"
      },
      "outputs": [
        {
          "name": "stdout",
          "output_type": "stream",
          "text": [
            "Entrez un nombre 1\n",
            "Entrez un nombre 2\n",
            "Entrez un nombre 3\n",
            "Entrez un nombre 4\n",
            "Entrez un nombre 5\n",
            "le plus grand nombre est 5\n",
            "Entrez un nombre 1\n",
            "Entrez un nombre 2\n",
            "Entrez un nombre 3\n",
            "Entrez un nombre 5\n",
            "Entrez un nombre 4\n",
            "le plus grand nombre est 5\n"
          ]
        }
      ],
      "source": [
        "# Exercice 6 : Touver le plus grand nombre\n",
        "var=0;\n",
        "for i in range(5):\n",
        "  nombre=int(input(\"Entrez un nombre \"))\n",
        "  if var < nombre:\n",
        "    var=nombre;\n",
        "print(\"le plus grand nombre est\", var)\n",
        "var = 0;\n",
        "list = [];\n",
        "for i in range(5):\n",
        "  nombre=int(input(\"Entrez un nombre \"))\n",
        "  list.append(nombre)\n",
        "\n",
        "for num in list:\n",
        "  if var < num:\n",
        "    var = num\n",
        "\n",
        "print(\"le plus grand nombre est\", var)\n",
        "\n",
        "quit()"
      ]
    },
    {
      "cell_type": "code",
      "execution_count": null,
      "metadata": {
        "colab": {
          "base_uri": "https://localhost:8080/"
        },
        "id": "zmoOtGT928Gn",
        "outputId": "7a44a55a-6844-4163-f8ec-a8382721921c"
      },
      "outputs": [
        {
          "name": "stdout",
          "output_type": "stream",
          "text": [
            "Exercice 7 : Compter les Voyelles\n",
            "Entrez une phrase : il fait chaud aujourd'hui \n",
            "Le nombre de voyelles dans la phrase est : 11\n"
          ]
        }
      ],
      "source": [
        "# Exercice 7 : Compter les Voyelles\n",
        "\n",
        "print(\"Exercice 7 : Compter les Voyelles\")\n",
        "phrase = input(\"Entrez une phrase : \")\n",
        "\n",
        "# Liste des voyelles\n",
        "voyelles = \"aeiou\"\n",
        "compteur = 0\n",
        "\n",
        "# Compter le nombre de voyelles dans la phrase\n",
        "for lettre in phrase.lower():\n",
        "    if lettre in voyelles:\n",
        "        compteur += 1\n",
        "\n",
        "print(f\"Le nombre de voyelles dans la phrase est : {compteur}\")\n"
      ]
    },
    {
      "cell_type": "code",
      "execution_count": null,
      "metadata": {
        "colab": {
          "base_uri": "https://localhost:8080/"
        },
        "id": "84R4evhn5Wo9",
        "outputId": "b602e53c-01b3-4cb8-ffd2-ab645f92d08f"
      },
      "outputs": [
        {
          "name": "stdout",
          "output_type": "stream",
          "text": [
            "Exercice 8 : Inverser une Chaîne\n",
            "Entrez une chaîne : \"Bonjour\"\n",
            "Chaîne inversée : \"ruojnoB\"\n"
          ]
        }
      ],
      "source": [
        "# Exercice 8 : Inverser une Chaîne\n",
        "\n",
        "print(\"Exercice 8 : Inverser une Chaîne\")\n",
        "chaine = input(\"Entrez une chaîne : \")\n",
        "chaine_inversee = chaine[::-1]\n",
        "print(f\"Chaîne inversée : {chaine_inversee}\")\n"
      ]
    },
    {
      "cell_type": "code",
      "execution_count": null,
      "metadata": {
        "colab": {
          "base_uri": "https://localhost:8080/"
        },
        "id": "cBTgAe1a6JAD",
        "outputId": "c7537dfd-2ac0-4bba-da2b-3019a745b675"
      },
      "outputs": [
        {
          "name": "stdout",
          "output_type": "stream",
          "text": [
            "Exercice 9 : Palindrome\n",
            "Entrez un mot : machine \n",
            "machine  n'est pas un palindrome.\n"
          ]
        }
      ],
      "source": [
        "# Exercice 9 : Palindrome\n",
        "\n",
        "print(\"Exercice 9 : Palindrome\")\n",
        "mot = input(\"Entrez un mot : \").lower()  \n",
        "if mot == mot[::-1]:\n",
        "    print(f\"{mot} est un palindrome.\")\n",
        "else:\n",
        "    print(f\"{mot} n'est pas un palindrome.\")\n"
      ]
    },
    {
      "cell_type": "code",
      "execution_count": null,
      "metadata": {
        "colab": {
          "base_uri": "https://localhost:8080/"
        },
        "id": "qALbkZC17-b1",
        "outputId": "a2f02dc5-6565-420d-9535-3effbac05d32"
      },
      "outputs": [
        {
          "name": "stdout",
          "output_type": "stream",
          "text": [
            "Exercice 10 : Factorielle\n",
            "Entrez un nombre entier : 5\n",
            "La factorielle de 5 est : 120\n"
          ]
        }
      ],
      "source": [
        "# Exercice 10 : Factorielle\n",
        "\n",
        "\n",
        "def factorielle(n):\n",
        "    return 1 if n <= 1 else n * factorielle(n - 1)\n",
        "\n",
        "print(\"Exercice 10 : Factorielle\")\n",
        "n = int(input(\"Entrez un nombre entier : \"))\n",
        "print(f\"La factorielle de {n} est : {factorielle(n)}\")\n",
        "\n"
      ]
    }
  ],
  "metadata": {
    "colab": {
      "provenance": []
    },
    "kernelspec": {
      "display_name": "Python 3",
      "name": "python3"
    },
    "language_info": {
      "name": "python"
    }
  },
  "nbformat": 4,
  "nbformat_minor": 0
}
